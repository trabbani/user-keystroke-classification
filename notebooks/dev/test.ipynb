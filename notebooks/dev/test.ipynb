{
 "cells": [
  {
   "cell_type": "code",
   "execution_count": 6,
   "metadata": {},
   "outputs": [],
   "source": [
    "import pandas as pd\n",
    "import os\n",
    "from keystrokes.pipelines.preprocessing_pipeline import preprocessing_pipeline\n",
    "from keystrokes.features.example_creator import ExampleCreator\n",
    "from keystrokes.data.data_utils import list_keystroke_files_in_zip\n",
    "from keystrokes.utils.config_utils import DOWNLOADED_ZIPFILE_PATH"
   ]
  },
  {
   "cell_type": "code",
   "execution_count": 7,
   "metadata": {},
   "outputs": [],
   "source": [
    "file_ids = list_keystroke_files_in_zip(DOWNLOADED_ZIPFILE_PATH)"
   ]
  },
  {
   "cell_type": "code",
   "execution_count": 8,
   "metadata": {},
   "outputs": [
    {
     "name": "stdout",
     "output_type": "stream",
     "text": [
      "Error creating examples for user_id 23: Error tokenizing data. C error: EOF inside string starting at row 647\n"
     ]
    }
   ],
   "source": [
    "class FeatureGenerator:\n",
    "    def __init__(self, file_ids_subset):\n",
    "        self.example_creator = ExampleCreator()\n",
    "        self.file_ids_subset = file_ids_subset\n",
    "\n",
    "    def create_and_save_examples(self, user_id, examples, example_type):\n",
    "        \"\"\"Create and save examples.\"\"\"\n",
    "\n",
    "        os.makedirs(f'data/processed/{example_type}', exist_ok=True)\n",
    "\n",
    "        for i, df_pair in enumerate(examples):\n",
    "            features_df = preprocessing_pipeline.transform([df_pair])[0]\n",
    "            features_df.to_csv(f'data/processed/{example_type}/{user_id}_{i}.csv', index=False)\n",
    "\n",
    "    def generate(self):\n",
    "        for row in self.file_ids_subset.itertuples(index=True):\n",
    "            idx = row.Index\n",
    "            user_id = row.user_id\n",
    "\n",
    "            if idx %100 == 0:\n",
    "                print(f\"Processed {idx} users\")\n",
    "\n",
    "            # Create positive and negative examples\n",
    "            try:\n",
    "                pos_examples = self.example_creator.create_positive_examples(idx, n_examples=3)\n",
    "                neg_examples = self.example_creator.create_negative_examples(idx)\n",
    "            except Exception as e:\n",
    "                print(f\"Error creating examples for user_id {user_id}: {e}\")\n",
    "                continue\n",
    "\n",
    "            # Create and save positive examples\n",
    "            self.create_and_save_examples(user_id, pos_examples, \"positive\")\n",
    "\n",
    "            # Create and save negative examples\n",
    "            self.create_and_save_examples(user_id, neg_examples, \"negative\")\n",
    "\n",
    "\n",
    "if __name__ == \"__main__\":\n",
    "    # Assume `file_ids` is a DataFrame you already have\n",
    "    ind_start = 0\n",
    "    ind_end = 10000\n",
    "    file_ids_subset = file_ids.iloc[ind_start:ind_end]\n",
    "    generator = FeatureGenerator(file_ids_subset)\n",
    "    generator.generate()\n"
   ]
  },
  {
   "cell_type": "code",
   "execution_count": null,
   "metadata": {},
   "outputs": [],
   "source": []
  }
 ],
 "metadata": {
  "kernelspec": {
   "display_name": "venv",
   "language": "python",
   "name": "python3"
  },
  "language_info": {
   "codemirror_mode": {
    "name": "ipython",
    "version": 3
   },
   "file_extension": ".py",
   "mimetype": "text/x-python",
   "name": "python",
   "nbconvert_exporter": "python",
   "pygments_lexer": "ipython3",
   "version": "3.10.6"
  },
  "orig_nbformat": 4
 },
 "nbformat": 4,
 "nbformat_minor": 2
}
